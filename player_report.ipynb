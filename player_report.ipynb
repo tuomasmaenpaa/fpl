{
 "cells": [
  {
   "cell_type": "code",
   "execution_count": null,
   "metadata": {},
   "outputs": [],
   "source": [
    "%%capture\n",
    "import PremierLeague\n",
    "import FPL\n",
    "import pandas as pd\n",
    "\n",
    "from IPython.display import Markdown\n",
    "\n",
    "NUMBER_OF_GAMEWEEKS = 10\n",
    "pd.option_context('format.precision',3)"
   ]
  },
  {
   "cell_type": "code",
   "execution_count": null,
   "metadata": {},
   "outputs": [],
   "source": [
    "fpl = FPL.FPL()\n",
    "fbref = PremierLeague.FBREF()"
   ]
  },
  {
   "cell_type": "code",
   "execution_count": null,
   "metadata": {},
   "outputs": [],
   "source": [
    "def add_upcoming_info(row, league_table, no_gws=5):\n",
    "    fixt = fpl.get_upcoming_fixtures(row.FPLid, no_gws)\n",
    "    ovr_diff = fpl.get_upcoming_team_difficulty(fixt, league_table)\n",
    "    att_threat = fpl.get_upcoming_attacking_threat(fixt, league_table)\n",
    "    def_strength = fpl.get_upcoming_defensive_difficulty(fixt, league_table)\n",
    "\n",
    "    return pd.Series([ovr_diff, att_threat, def_strength])"
   ]
  },
  {
   "cell_type": "code",
   "execution_count": null,
   "metadata": {},
   "outputs": [],
   "source": [
    "pl_table = fbref.get_league_table(convert_to_fpl=True)"
   ]
  },
  {
   "cell_type": "code",
   "execution_count": null,
   "metadata": {},
   "outputs": [],
   "source": [
    "difficulty_cols = [f'{NUMBER_OF_GAMEWEEKS} GWs Diff.',f'{NUMBER_OF_GAMEWEEKS} GWs Opp. Threat',f'{NUMBER_OF_GAMEWEEKS} GWs Opp. Def.'] \n",
    "pl_table[difficulty_cols] = pl_table.apply(add_upcoming_info, args=(pl_table, NUMBER_OF_GAMEWEEKS), axis=1)"
   ]
  },
  {
   "cell_type": "code",
   "execution_count": null,
   "metadata": {},
   "outputs": [],
   "source": [
    "gw = fpl.get_latest_gameweek_no() + 1\n",
    "display(Markdown(f'## Fantasy Premier League players report \\u2014 Gameweek {gw}'))"
   ]
  },
  {
   "cell_type": "code",
   "execution_count": null,
   "metadata": {},
   "outputs": [],
   "source": [
    "players = fpl.players.merge(pl_table[['FPLid'] + difficulty_cols], left_on='team', right_on='FPLid')"
   ]
  },
  {
   "cell_type": "code",
   "execution_count": null,
   "metadata": {},
   "outputs": [],
   "source": [
    "ONLY_FIT = False\n",
    "if ONLY_FIT:\n",
    "    players = players.loc[players.fitness >= 75,:]"
   ]
  },
  {
   "cell_type": "code",
   "execution_count": null,
   "metadata": {},
   "outputs": [],
   "source": [
    "fwds = players.loc[players.position == 'Forward']\n",
    "mids = players.loc[players.position == 'Midfielder']\n",
    "defs = players.loc[players.position == 'Defender']\n",
    "gks = players.loc[players.position == 'Goalkeeper']"
   ]
  },
  {
   "attachments": {},
   "cell_type": "markdown",
   "metadata": {},
   "source": [
    "### Forwards"
   ]
  },
  {
   "cell_type": "code",
   "execution_count": null,
   "metadata": {},
   "outputs": [],
   "source": [
    "fwd_cols = ['name','team_name', 'price', 'total_points', 'ppm', 'form', 'value', 'goals', 'assists', \n",
    "            'xG', 'xA', 'xGI', 'xGI/90'] + difficulty_cols[:1]+difficulty_cols[2:] "
   ]
  },
  {
   "cell_type": "code",
   "execution_count": null,
   "metadata": {},
   "outputs": [],
   "source": [
    "fwds[fwd_cols].sort_values(['form','xGI/90'] + [difficulty_cols[-1]], ascending=[False, False, True]).head(20).style.background_gradient()"
   ]
  },
  {
   "attachments": {},
   "cell_type": "markdown",
   "metadata": {},
   "source": [
    "### Midfielders"
   ]
  },
  {
   "cell_type": "code",
   "execution_count": null,
   "metadata": {},
   "outputs": [],
   "source": [
    "\n",
    "mfd_cols = ['name','team_name', 'price', 'total_points', 'ppm', 'form', 'value', 'goals', 'assists', \n",
    "            'xG', 'xA', 'xGI', 'xGI/90'] + difficulty_cols[:1]+difficulty_cols[2:] "
   ]
  },
  {
   "cell_type": "code",
   "execution_count": null,
   "metadata": {},
   "outputs": [],
   "source": [
    "mids[mfd_cols].sort_values(['form','xGI/90'] + [difficulty_cols[-1]], ascending=[False, False, True]).head(20).style.background_gradient()"
   ]
  },
  {
   "attachments": {},
   "cell_type": "markdown",
   "metadata": {},
   "source": [
    "### Defenders"
   ]
  },
  {
   "cell_type": "code",
   "execution_count": null,
   "metadata": {},
   "outputs": [],
   "source": [
    "\n",
    "def_cols = ['name','team_name', 'price', 'total_points', 'ppm', 'form', 'value', 'goals', 'assists', 'Cs', \n",
    "           'xGI', 'GA', 'xGA', 'xGA/90','xGI/90', 'GA/90', 'Cs/90'] + difficulty_cols"
   ]
  },
  {
   "cell_type": "code",
   "execution_count": null,
   "metadata": {},
   "outputs": [],
   "source": [
    "defs[def_cols].sort_values(['form','xGA/90'] + difficulty_cols[:-1], ascending=[False, True, True, True]).head(20).style.background_gradient()"
   ]
  },
  {
   "attachments": {},
   "cell_type": "markdown",
   "metadata": {},
   "source": [
    "### Goalkeepers"
   ]
  },
  {
   "cell_type": "code",
   "execution_count": null,
   "metadata": {},
   "outputs": [],
   "source": [
    "gk_cols =  ['name','team_name', 'price', 'total_points', 'ppm', 'form', 'value', 'Cs', 'saves', 'penalties_saved', \n",
    "'GA', 'xGA', 'xGA/90', 'GA/90', 'Cs/90'] + difficulty_cols"
   ]
  },
  {
   "cell_type": "code",
   "execution_count": null,
   "metadata": {},
   "outputs": [],
   "source": [
    "gks[gk_cols].sort_values(['form','xGA/90'] + difficulty_cols[:-1], ascending=[False, True, True, True]).head(20).style.background_gradient()"
   ]
  },
  {
   "attachments": {},
   "cell_type": "markdown",
   "metadata": {},
   "source": [
    "### Captain options"
   ]
  },
  {
   "cell_type": "code",
   "execution_count": null,
   "metadata": {},
   "outputs": [],
   "source": [
    "NUMBER_OF_GAMEWEEKS = 1\n",
    "\n",
    "difficulty_cols = [f'{NUMBER_OF_GAMEWEEKS} GWs Diff.',f'{NUMBER_OF_GAMEWEEKS} GWs Opp. Threat',f'{NUMBER_OF_GAMEWEEKS} GWs Opp. Def.'] \n",
    "pl_table[difficulty_cols] = pl_table.apply(add_upcoming_info, args=(pl_table, NUMBER_OF_GAMEWEEKS), axis=1)\n",
    "\n",
    "players = fpl.players.merge(pl_table[['FPLid'] + difficulty_cols], left_on='team', right_on='FPLid')\n",
    "\n",
    "fwds = players.loc[players.position == 'Forward']\n",
    "mids = players.loc[players.position == 'Midfielder']\n",
    "defs = players.loc[players.position == 'Defender']"
   ]
  },
  {
   "attachments": {},
   "cell_type": "markdown",
   "metadata": {},
   "source": [
    "#### Forwards"
   ]
  },
  {
   "cell_type": "code",
   "execution_count": null,
   "metadata": {},
   "outputs": [],
   "source": [
    "fwd_cols = ['name','team_name', 'price', 'total_points', 'ppm', 'form', 'value', 'goals', 'assists'] + difficulty_cols[:1]+difficulty_cols[2:] "
   ]
  },
  {
   "cell_type": "code",
   "execution_count": null,
   "metadata": {},
   "outputs": [],
   "source": [
    "\n",
    "fwds.loc[(fwds.form > 4), fwd_cols].sort_values([difficulty_cols[-1]]+['form'], ascending=[True, False]).head(10).style.background_gradient()"
   ]
  },
  {
   "attachments": {},
   "cell_type": "markdown",
   "metadata": {},
   "source": [
    "#### Midfielders"
   ]
  },
  {
   "cell_type": "code",
   "execution_count": null,
   "metadata": {},
   "outputs": [],
   "source": [
    "mfd_cols = ['name','team_name', 'price', 'total_points', 'ppm', 'form', 'value', 'goals', 'assists'] + difficulty_cols[:1]+difficulty_cols[2:] "
   ]
  },
  {
   "cell_type": "code",
   "execution_count": null,
   "metadata": {},
   "outputs": [],
   "source": [
    "mids.loc[(mids.form > 4), mfd_cols].sort_values([difficulty_cols[-1]]+['form'], ascending=[True, False]).head(10).style.background_gradient()"
   ]
  },
  {
   "attachments": {},
   "cell_type": "markdown",
   "metadata": {},
   "source": [
    "#### Defenders"
   ]
  },
  {
   "cell_type": "code",
   "execution_count": null,
   "metadata": {},
   "outputs": [],
   "source": [
    "def_cols = ['name','team_name', 'price', 'total_points', 'ppm', 'form', 'value', 'goals', 'assists'] + difficulty_cols "
   ]
  },
  {
   "cell_type": "code",
   "execution_count": null,
   "metadata": {},
   "outputs": [],
   "source": [
    "defs.loc[(defs.form > 4), def_cols].sort_values([difficulty_cols[-2]]+['form'], ascending=[True, False]).head(10).style.background_gradient()"
   ]
  }
 ],
 "metadata": {
  "kernelspec": {
   "display_name": "py39",
   "language": "python",
   "name": "python3"
  },
  "language_info": {
   "codemirror_mode": {
    "name": "ipython",
    "version": 3
   },
   "file_extension": ".py",
   "mimetype": "text/x-python",
   "name": "python",
   "nbconvert_exporter": "python",
   "pygments_lexer": "ipython3",
   "version": "3.9.13 (main, Aug 25 2022, 23:51:50) [MSC v.1916 64 bit (AMD64)]"
  },
  "orig_nbformat": 4,
  "vscode": {
   "interpreter": {
    "hash": "1989c9e797680b9c9808919358fefedcbe41362a6b7fc7b179d5fe0c2f7e2724"
   }
  }
 },
 "nbformat": 4,
 "nbformat_minor": 2
}
