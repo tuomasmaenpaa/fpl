{
 "cells": [
  {
   "cell_type": "code",
   "execution_count": null,
   "metadata": {},
   "outputs": [],
   "source": [
    "\n",
    "%%capture\n",
    "import PremierLeague\n",
    "import FPL\n",
    "import pandas as pd\n",
    "from IPython.display import Markdown\n",
    "\n",
    "NUMBER_OF_GAMEWEEKS = 10\n",
    "pd.option_context('format.precision',3)"
   ]
  },
  {
   "cell_type": "code",
   "execution_count": null,
   "metadata": {},
   "outputs": [],
   "source": [
    "fpl = FPL.FPL()\n",
    "fbref = PremierLeague.FBREF()"
   ]
  },
  {
   "cell_type": "code",
   "execution_count": null,
   "metadata": {},
   "outputs": [],
   "source": [
    "pl_table = fbref.get_league_table(convert_to_fpl=True)"
   ]
  },
  {
   "cell_type": "code",
   "execution_count": null,
   "metadata": {},
   "outputs": [],
   "source": [
    "def add_upcoming_info(row, league_table, no_gws=5):\n",
    "    fixt = fpl.get_upcoming_fixtures(row.FPLid, no_gws)\n",
    "    ovr_diff = fpl.get_upcoming_team_difficulty(fixt, league_table)\n",
    "    att_threat = fpl.get_upcoming_attacking_threat(fixt, league_table)\n",
    "    def_strength = fpl.get_upcoming_defensive_difficulty(fixt, league_table)\n",
    "\n",
    "    return pd.Series([ovr_diff, att_threat, def_strength])"
   ]
  },
  {
   "cell_type": "code",
   "execution_count": null,
   "metadata": {},
   "outputs": [],
   "source": [
    "difficulty_cols = [f'{NUMBER_OF_GAMEWEEKS} GWs Diff.',f'{NUMBER_OF_GAMEWEEKS} GWs Opp. Threat',f'{NUMBER_OF_GAMEWEEKS} GWs Opp. Def.'] \n",
    "pl_table[difficulty_cols] = pl_table.apply(add_upcoming_info, args=(pl_table, NUMBER_OF_GAMEWEEKS), axis=1)"
   ]
  },
  {
   "cell_type": "code",
   "execution_count": null,
   "metadata": {},
   "outputs": [],
   "source": [
    "gw = fpl.get_latest_gameweek_no() + 1\n",
    "display(Markdown(f'## Premier League team report \\u2014 Gameweek {gw}'))"
   ]
  },
  {
   "attachments": {},
   "cell_type": "markdown",
   "metadata": {},
   "source": [
    "### League Table"
   ]
  },
  {
   "cell_type": "code",
   "execution_count": null,
   "metadata": {},
   "outputs": [],
   "source": [
    "pl_table.drop(['Last 5','FPLid'] + difficulty_cols, axis=1).style.background_gradient(cmap='Blues')"
   ]
  },
  {
   "attachments": {},
   "cell_type": "markdown",
   "metadata": {},
   "source": [
    "<p class=\"new-page\">"
   ]
  },
  {
   "cell_type": "code",
   "execution_count": null,
   "metadata": {},
   "outputs": [],
   "source": [
    "display(Markdown(f'### Easiest {NUMBER_OF_GAMEWEEKS} following gameweeks'))"
   ]
  },
  {
   "attachments": {},
   "cell_type": "markdown",
   "metadata": {},
   "source": [
    "### Easiest 5 following gameweeks"
   ]
  },
  {
   "cell_type": "code",
   "execution_count": null,
   "metadata": {},
   "outputs": [],
   "source": [
    "pl_table[['Squad']+difficulty_cols].sort_values(difficulty_cols, \n",
    "            ascending=[True, True, False]).style.background_gradient(cmap='Blues')"
   ]
  }
 ],
 "metadata": {
  "kernelspec": {
   "display_name": "py39",
   "language": "python",
   "name": "python3"
  },
  "language_info": {
   "codemirror_mode": {
    "name": "ipython",
    "version": 3
   },
   "file_extension": ".py",
   "mimetype": "text/x-python",
   "name": "python",
   "nbconvert_exporter": "python",
   "pygments_lexer": "ipython3",
   "version": "3.9.13 (main, Aug 25 2022, 23:51:50) [MSC v.1916 64 bit (AMD64)]"
  },
  "orig_nbformat": 4,
  "vscode": {
   "interpreter": {
    "hash": "1989c9e797680b9c9808919358fefedcbe41362a6b7fc7b179d5fe0c2f7e2724"
   }
  }
 },
 "nbformat": 4,
 "nbformat_minor": 2
}
